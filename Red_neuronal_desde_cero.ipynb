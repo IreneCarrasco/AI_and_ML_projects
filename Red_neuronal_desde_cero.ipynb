{
  "nbformat": 4,
  "nbformat_minor": 0,
  "metadata": {
    "colab": {
      "provenance": [],
      "authorship_tag": "ABX9TyOogE9RX7aPHECu1Hf6NzCL"
    },
    "kernelspec": {
      "name": "python3",
      "display_name": "Python 3"
    },
    "language_info": {
      "name": "python"
    }
  },
  "cells": [
    {
      "cell_type": "markdown",
      "source": [
        "https://www.cienciadedatos.net/\n",
        "https://www.aprendemachinelearning.com/crear-una-red-neuronal-en-python-desde-cero/"
      ],
      "metadata": {
        "id": "X1pvqGYDUJ7_"
      }
    },
    {
      "cell_type": "markdown",
      "source": [
        "Vamos a empezar por el tutorial de aprendemachinelearning.com\n",
        "\n",
        "Crear una Red Neuronal en Python desde cero"
      ],
      "metadata": {
        "id": "DmAw-RzxiY08"
      }
    },
    {
      "cell_type": "markdown",
      "source": [
        "Vamos a crear una red neuronal que conduzca un coche de juguete Arduino\n",
        "\n",
        "Nuestros datos de entrada serán:\n",
        "\n",
        "Sensor de distancia al obstáculo\n",
        "si es 0 no hay obstáculos a la vista\n",
        "si es 0,5 se acerca a un obstáculo\n",
        "si es 1 está demasiado cerca de un obstáculo\n",
        "Posición del obstáculo (izquierda,derecha)\n",
        "El obstáculo es visto a la izquierda será -1\n",
        "visto a la derecha será 1\n",
        "Las salidas serán\n",
        "\n",
        "Girar\n",
        "derecha 1 / izquierda -1\n",
        "Dirección\n",
        "avanzar 1 / retroceder -1\n",
        "La velocidad del vehículo podría ser una salida más (por ejemplo disminuir la velocidad si nos aproximamos a un objeto) y podríamos usar más sensores como entradas pero por simplificar el modelo y su implementación mantendremos estas 2 entradas y 2 salidas.\n",
        "\n",
        "En la imagen anterior -y durante el ejemplo- usamos la siguiente notación en las neuronas:\n",
        "\n",
        "X(i) son las entradas\n",
        "a(i) activación en la capa 2\n",
        "y(i) son las salidas\n",
        "\n"
      ],
      "metadata": {
        "id": "8YEin9PqnH3C"
      }
    },
    {
      "cell_type": "code",
      "execution_count": null,
      "metadata": {
        "id": "ujywKrk6UFED"
      },
      "outputs": [],
      "source": [
        "# Declaración de la clase Neural Network\n",
        "import numpy as np\n",
        "\n",
        "def sigmoid(x):\n",
        "    return 1.0/(1.0 + np.exp(-x))\n",
        "\n",
        "def sigmoid_derivada(x):\n",
        "    return sigmoid(x)*(1.0-sigmoid(x))\n",
        "\n",
        "def tanh(x):\n",
        "    return np.tanh(x)\n",
        "\n",
        "def tanh_derivada(x):\n",
        "    return 1.0 - x**2\n",
        "\n",
        "\n",
        "class NeuralNetwork:\n",
        "\n",
        "    def __init__(self, layers, activation='tanh'):\n",
        "        if activation == 'sigmoid':\n",
        "            self.activation = sigmoid\n",
        "            self.activation_prime = sigmoid_derivada\n",
        "        elif activation == 'tanh':\n",
        "            self.activation = tanh\n",
        "            self.activation_prime = tanh_derivada\n",
        "\n",
        "        # inicializo los pesos\n",
        "        self.weights = []\n",
        "        self.deltas = []\n",
        "        # capas = [2,3,2]\n",
        "        # rando de pesos varia entre (-1,1)\n",
        "        # asigno valores aleatorios a capa de entrada y capa oculta\n",
        "        for i in range(1, len(layers) - 1):\n",
        "            r = 2*np.random.random((layers[i-1] + 1, layers[i] + 1)) -1\n",
        "            self.weights.append(r)\n",
        "        # asigno aleatorios a capa de salida\n",
        "        r = 2*np.random.random( (layers[i] + 1, layers[i+1])) - 1\n",
        "        self.weights.append(r)\n",
        "\n",
        "    def fit(self, X, y, learning_rate=0.2, epochs=100000):\n",
        "        # Agrego columna de unos a las entradas X\n",
        "        # Con esto agregamos la unidad de Bias a la capa de entrada\n",
        "        ones = np.atleast_2d(np.ones(X.shape[0]))\n",
        "        X = np.concatenate((ones.T, X), axis=1)\n",
        "\n",
        "        for k in range(epochs):\n",
        "            i = np.random.randint(X.shape[0])\n",
        "            a = [X[i]]\n",
        "\n",
        "            for l in range(len(self.weights)):\n",
        "                    dot_value = np.dot(a[l], self.weights[l])\n",
        "                    activation = self.activation(dot_value)\n",
        "                    a.append(activation)\n",
        "            # Calculo la diferencia en la capa de salida y el valor obtenido\n",
        "            error = y[i] - a[-1]\n",
        "            deltas = [error * self.activation_prime(a[-1])]\n",
        "\n",
        "            # Empezamos en el segundo layer hasta el ultimo\n",
        "            # (Una capa anterior a la de salida)\n",
        "            for l in range(len(a) - 2, 0, -1):\n",
        "                deltas.append(deltas[-1].dot(self.weights[l].T)*self.activation_prime(a[l]))\n",
        "            self.deltas.append(deltas)\n",
        "\n",
        "            # invertir\n",
        "            # [level3(output)->level2(hidden)]  => [level2(hidden)->level3(output)]\n",
        "            deltas.reverse()\n",
        "\n",
        "            # backpropagation\n",
        "            # 1. Multiplcar los delta de salida con las activaciones de entrada\n",
        "            #    para obtener el gradiente del peso.\n",
        "            # 2. actualizo el peso restandole un porcentaje del gradiente\n",
        "            for i in range(len(self.weights)):\n",
        "                layer = np.atleast_2d(a[i])\n",
        "                delta = np.atleast_2d(deltas[i])\n",
        "                self.weights[i] += learning_rate * layer.T.dot(delta)\n",
        "\n",
        "            if k % 10000 == 0: print('epochs:', k)\n",
        "\n",
        "    def predict(self, x):\n",
        "        ones = np.atleast_2d(np.ones(x.shape[0]))\n",
        "        a = np.concatenate((np.ones(1).T, np.array(x)), axis=0)\n",
        "        for l in range(0, len(self.weights)):\n",
        "            a = self.activation(np.dot(a, self.weights[l]))\n",
        "        return a\n",
        "\n",
        "    def print_weights(self):\n",
        "        print(\"LISTADO PESOS DE CONEXIONES\")\n",
        "        for i in range(len(self.weights)):\n",
        "            print(self.weights[i])\n",
        "\n",
        "    def get_deltas(self):\n",
        "        return self.deltas"
      ]
    },
    {
      "cell_type": "code",
      "source": [
        "# Y ahora creamos una red a nuestra medida, con 2 neuronas de entrada, 3 ocultas y 2 de salida. Deberemos ir ajustando los parámetros de\n",
        "# entrenamiento learning rate y la cantidad de iteraciones “epochs” para obtener buenas predicciones.\n",
        "\n",
        "# funcion Coche Evita obstáculos\n",
        "nn = NeuralNetwork([2,3,2],activation ='tanh')\n",
        "X = np.array([[0, 0],   # sin obstaculos\n",
        "              [0, 1],   # sin obstaculos\n",
        "              [0, -1],  # sin obstaculos\n",
        "              [0.5, 1], # obstaculo detectado a derecha\n",
        "              [0.5,-1], # obstaculo a izq\n",
        "              [1,1],    # demasiado cerca a derecha\n",
        "              [1,-1]])  # demasiado cerca a izq\n",
        "\n",
        "y = np.array([[0,1],    # avanzar\n",
        "              [0,1],    # avanzar\n",
        "              [0,1],    # avanzar\n",
        "              [-1,1],   # giro izquierda\n",
        "              [1,1],    # giro derecha\n",
        "              [0,-1],   # retroceder\n",
        "              [0,-1]])  # retroceder\n",
        "nn.fit(X, y, learning_rate=0.03,epochs=15001)\n",
        "\n",
        "index=0\n",
        "for e in X:\n",
        "    print(\"X:\",e,\"y:\",y[index],\"Network:\",nn.predict(e))\n",
        "    index=index+1"
      ],
      "metadata": {
        "colab": {
          "base_uri": "https://localhost:8080/"
        },
        "id": "KUmCkRjLpeg0",
        "outputId": "22fc2aad-98ed-4661-9a0b-3869d34f02f8"
      },
      "execution_count": null,
      "outputs": [
        {
          "output_type": "stream",
          "name": "stdout",
          "text": [
            "epochs: 0\n",
            "epochs: 10000\n",
            "X: [0. 0.] y: [0 1] Network: [-0.00107282  0.99996667]\n",
            "X: [0. 1.] y: [0 1] Network: [4.79766445e-04 9.99979818e-01]\n",
            "X: [ 0. -1.] y: [0 1] Network: [0.00334742 0.99972584]\n",
            "X: [0.5 1. ] y: [-1  1] Network: [-0.95479688  0.95224596]\n",
            "X: [ 0.5 -1. ] y: [1 1] Network: [0.93475078 0.97663902]\n",
            "X: [1. 1.] y: [ 0 -1] Network: [-0.00480794 -0.96987482]\n",
            "X: [ 1. -1.] y: [ 0 -1] Network: [ 0.00393261 -0.9975281 ]\n"
          ]
        }
      ]
    },
    {
      "cell_type": "code",
      "source": [
        "# Coste de la función\n",
        "import matplotlib.pyplot as plt\n",
        "\n",
        "deltas = nn.get_deltas()\n",
        "valores=[]\n",
        "index=0\n",
        "for arreglo in deltas:\n",
        "    valores.append(arreglo[1][0] + arreglo[1][1])\n",
        "    index=index+1\n",
        "\n",
        "plt.plot(range(len(valores)), valores, color='b')\n",
        "plt.ylim([0, 1])\n",
        "plt.ylabel('Cost')\n",
        "plt.xlabel('Epochs')\n",
        "plt.tight_layout()\n",
        "plt.show()"
      ],
      "metadata": {
        "colab": {
          "base_uri": "https://localhost:8080/",
          "height": 487
        },
        "id": "VBK3cxYapxmi",
        "outputId": "6f402c2f-c4fa-4cd3-a9a9-13c48d0869fe"
      },
      "execution_count": null,
      "outputs": [
        {
          "output_type": "display_data",
          "data": {
            "text/plain": [
              "<Figure size 640x480 with 1 Axes>"
            ],
            "image/png": "[encoded data removed]"
          },
          "metadata": {}
        }
      ]
    },
    {
      "cell_type": "code",
      "source": [],
      "metadata": {
        "id": "aNOxXc14p-3x"
      },
      "execution_count": null,
      "outputs": []
    }
  ]
}