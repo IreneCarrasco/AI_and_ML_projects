{
  "nbformat": 4,
  "nbformat_minor": 0,
  "metadata": {
    "colab": {
      "provenance": [],
      "authorship_tag": "ABX9TyMhOUGT1wN/aJFySpWjKkyB"
    },
    "kernelspec": {
      "name": "python3",
      "display_name": "Python 3"
    },
    "language_info": {
      "name": "python"
    }
  },
  "cells": [
    {
      "cell_type": "markdown",
      "source": [
        "LInks to sources\n",
        "\n",
        "https://www.geeksforgeeks.org/underfitting-and-overfitting-in-machine-learning/\n",
        "\n",
        "https://www.aprendemachinelearning.com/que-es-overfitting-y-underfitting-y-como-solucionarlo/"
      ],
      "metadata": {
        "id": "51XO0wgHxxk4"
      }
    },
    {
      "cell_type": "code",
      "execution_count": null,
      "metadata": {
        "id": "gWJ8_O2oxPB4"
      },
      "outputs": [],
      "source": []
    }
  ]
}