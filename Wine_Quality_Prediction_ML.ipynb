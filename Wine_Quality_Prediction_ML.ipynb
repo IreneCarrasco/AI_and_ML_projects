{
  "nbformat": 4,
  "nbformat_minor": 0,
  "metadata": {
    "colab": {
      "provenance": [],
      "authorship_tag": "ABX9TyOmPEGc9r+8vmQh5GFMCPIo"
    },
    "kernelspec": {
      "name": "python3",
      "display_name": "Python 3"
    },
    "language_info": {
      "name": "python"
    }
  },
  "cells": [
    {
      "cell_type": "markdown",
      "source": [
        "# Wine quality prediction using Machine Learning"
      ],
      "metadata": {
        "id": "YNIps9DpSaTL"
      }
    },
    {
      "cell_type": "markdown",
      "source": [
        "The original source code and explanations can be found in the following link\n",
        "\n",
        "https://www.geeksforgeeks.org/wine-quality-prediction-machine-learning/?ref=lbp"
      ],
      "metadata": {
        "id": "_EE1FIYZSE50"
      }
    },
    {
      "cell_type": "markdown",
      "source": [
        "Here we will predict the quality of wine on the basis of given features. We use the wine quality dataset available on Internet for free. This dataset has some fundamental features which may the quality of the wine. We will predict the quality of the wine using different machine learning algorithms."
      ],
      "metadata": {
        "id": "sYqoFNW2SStq"
      }
    },
    {
      "cell_type": "markdown",
      "source": [
        "## Importing libraries"
      ],
      "metadata": {
        "id": "oBKXl9KYSYAS"
      }
    },
    {
      "cell_type": "code",
      "source": [
        "import numpy as np\n",
        "import pandas as pd\n",
        "import matplotlib.pyplot as plt\n",
        "import seaborn as sb\n",
        "\n",
        "from sklearn.model_selection import train_test_split\n",
        "from sklearn.preprocessing import MinMaxScaler\n",
        "from sklearn import metrics\n",
        "from sklearn.svm import SVC\n",
        "from xgboost import XGBClassifier\n",
        "from sklearn.linear_model import LogisticRegression\n",
        "\n",
        "import warnings\n",
        "warnings.filterwarnings('ignore')"
      ],
      "metadata": {
        "id": "cXTSs0e1S4SH"
      },
      "execution_count": 1,
      "outputs": []
    },
    {
      "cell_type": "code",
      "source": [],
      "metadata": {
        "id": "7f6eZxhmS_ss"
      },
      "execution_count": null,
      "outputs": []
    }
  ]
}