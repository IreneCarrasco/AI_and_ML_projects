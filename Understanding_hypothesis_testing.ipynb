{
  "nbformat": 4,
  "nbformat_minor": 0,
  "metadata": {
    "colab": {
      "provenance": [],
      "authorship_tag": "ABX9TyMgtDyKqjlyWKsBCZuENYzX"
    },
    "kernelspec": {
      "name": "python3",
      "display_name": "Python 3"
    },
    "language_info": {
      "name": "python"
    }
  },
  "cells": [
    {
      "cell_type": "markdown",
      "source": [
        "Reference\n",
        "https://www.geeksforgeeks.org/understanding-hypothesis-testing/?ref=lbp"
      ],
      "metadata": {
        "id": "vrQHrZj_IrDK"
      }
    },
    {
      "cell_type": "markdown",
      "source": [
        "Hypothesis testing is a statistical method that is used in making a statistical decision using experimental data. Hypothesis testing is basically an assumption that we make about a population parameter. It evaluates two mutually exclusive statements about a population to determine which statement is best supported by the sample data.\n",
        "\n",
        "**Example:** You say an average student in the class is 30 or a boy is taller than a girl. All of these is an assumption that we are assuming and we need some statistical way to prove these. We need some mathematical conclusion whatever we are assuming is true.\n",
        "\n",
        "**Need for Hypothesis Testing**\n",
        "\n",
        "Hypothesis testing is an important procedure in statistics. Hypothesis testing evaluates two mutually exclusive population statements to determine which statement is most supported by sample data."
      ],
      "metadata": {
        "id": "URB9vZQeIx0S"
      }
    },
    {
      "cell_type": "markdown",
      "source": [
        "**Python Implementation of Hypothesis Testing**\n",
        "\n",
        "We will use the scipy python library to compute the p-value and z-score for our sample dataset. Scipy is a mathematical library in Python that is mostly used for mathematical equations and computations. In this code, we will create a function hypothesis_test in which we will pass arguments like pop_mean(population parameter upon which we are checking our hypothesis), sample dataset, level of confidence(alpha value), and type of testing (whether it’s a one-tailed test or two-tailed test)."
      ],
      "metadata": {
        "id": "iBAChriUPC4Z"
      }
    },
    {
      "cell_type": "code",
      "execution_count": null,
      "metadata": {
        "id": "Za5JVfkHIjsL"
      },
      "outputs": [],
      "source": [
        "import numpy as np\n",
        "from scipy.stats import norm\n",
        "\n",
        "# from scipy.stats import norm. A normal continuous random variabl\n",
        "\n",
        "# We define a function for evaluating hypothesis testing. In this function we\n",
        "# need 4 arguments as sample, population mean, the level of significance (alpha)\n",
        "# and the null hypothesis.\n",
        "# The null hypothesis in this function is that a coin is tricky and have 2 tails\n",
        "def hypothesis_test(sample, pop_mean,\n",
        "\t\t\t\t\talpha=0.05, two_tailed=True):\n",
        "\t# len sample dataset\n",
        "\tn = len(sample)\n",
        "\t# mean and standard-deviation of dataset\n",
        "\tsample_mean = np.mean(sample)\n",
        "\tsample_std = np.std(sample, ddof=1)\n",
        "\n",
        "\t# Calculate the test statistic\n",
        "\tz = (sample_mean - pop_mean) / (sample_std / np.sqrt(n))\n",
        "\n",
        "\t# Calculate the p-value based on the test type\n",
        "\tif two_tailed:\n",
        "\t\tp_value = 2 * (1 - norm.cdf(abs(z))) # cdf(x, loc=0, scale=1) Cumulative distribution function.\n",
        "\telse:\n",
        "\t\tif z < 0:\n",
        "\t\t\tp_value = norm.cdf(z)\n",
        "\t\telse:\n",
        "\t\t\tp_value = 1 - norm.cdf(z)\n",
        "\n",
        "\t# Determine whether to reject or fail to\n",
        "\t# reject the null hypothesis\n",
        "\tif p_value < alpha:\n",
        "\t\tresult = \"reject\"\n",
        "\telse:\n",
        "\t\tresult = \"fail to reject\"\n",
        "\n",
        "\treturn z, p_value, result\n"
      ]
    },
    {
      "cell_type": "markdown",
      "source": [
        "**Evaluate Hypothesis Function on Sample Dataset **\n",
        "\n",
        "\n",
        "To evaluate our hypothesis test function we will create a sample dataset of 20 points having 4.5 as the mean and 2 as the standard deviation.  Here, We will consider that our population has a mean equals to 5 ."
      ],
      "metadata": {
        "id": "6YQSXO2UVcvn"
      }
    },
    {
      "cell_type": "code",
      "source": [
        "np.random.seed(0)\n",
        "sample = np.random.normal(loc=4.5, scale=2, size=20)\n",
        "pop_mean = 5.0\n",
        "\n",
        "# Test the null hypothesis that\n",
        "# the population mean is equal to 5.0\n",
        "# The other two arguments were defined in the function previously\n",
        "z, p_value, result = hypothesis_test(sample, pop_mean)\n",
        "\n",
        "print(f\"Test statistic: {z:.4f}\")\n",
        "print(f\"P-value: {p_value:.4f}\")\n",
        "print(f\"Result: {result} null hypothesis at alpha=0.05\")\n"
      ],
      "metadata": {
        "colab": {
          "base_uri": "https://localhost:8080/"
        },
        "id": "ukX69Ys8VcCy",
        "outputId": "99cac6bc-bfec-47c7-ade9-5a633c2db4ab"
      },
      "execution_count": null,
      "outputs": [
        {
          "output_type": "stream",
          "name": "stdout",
          "text": [
            "Test statistic: 1.6372\n",
            "P-value: 0.1016\n",
            "Result: fail to reject null hypothesis at alpha=0.05\n"
          ]
        }
      ]
    },
    {
      "cell_type": "markdown",
      "source": [
        "In the above example, we can see that we are getting a p-value of 0.101 from the dataset which is less than our level of confidence(alpha value) which is 0.5 hence in this case we will reject our null hypothesis the population mean is 5.0  \n",
        "\n",
        "What if we get a p-value greater than our test statistics but we still reject our null hypothesis in this case we will be making an error. Based on the error we make we define error in two types.\n",
        "\n",
        "**Error in Hypothesis Testing**\n",
        "\n",
        "Type I error: When we reject the null hypothesis, although that hypothesis was true. Type I error is denoted by alpha.\n",
        "Type II errors: When we accept the null hypothesis but it is false. Type II errors are denoted by beta."
      ],
      "metadata": {
        "id": "CIkWpnDUWDQi"
      }
    },
    {
      "cell_type": "code",
      "source": [],
      "metadata": {
        "id": "_a6UgErjV3qT"
      },
      "execution_count": null,
      "outputs": []
    }
  ]
}